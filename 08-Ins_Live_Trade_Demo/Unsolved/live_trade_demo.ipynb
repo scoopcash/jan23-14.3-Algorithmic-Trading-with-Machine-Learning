{
 "cells": [
  {
   "cell_type": "markdown",
   "metadata": {},
   "source": [
    "# Going Live with Algo Trading"
   ]
  },
  {
   "cell_type": "code",
   "execution_count": 4,
   "metadata": {},
   "outputs": [
    {
     "data": {
      "text/plain": [
       "True"
      ]
     },
     "execution_count": 4,
     "metadata": {},
     "output_type": "execute_result"
    }
   ],
   "source": [
    "# Initial imports\n",
    "import os\n",
    "import pandas as pd\n",
    "from pathlib import Path\n",
    "from dotenv import load_dotenv\n",
    "\n",
    "# Load .env environment variables\n",
    "load_dotenv()"
   ]
  },
  {
   "cell_type": "markdown",
   "metadata": {},
   "source": [
    "## Alpaca Example\n",
    "**Note**: You'll need to use your own API and Secret key here to run this code. (You can do so for free at the [Alpaca Trading](https://alpaca.markets/) website)."
   ]
  },
  {
   "cell_type": "markdown",
   "metadata": {},
   "source": [
    "[alpaca-trade-api ](https://github.com/alpacahq/alpaca-trade-api-python) is a python package that can be used to trade algorithmically through [Alpaca](https://alpaca.markets/), a U.S. equities broker."
   ]
  },
  {
   "cell_type": "code",
   "execution_count": 5,
   "metadata": {},
   "outputs": [],
   "source": [
    "import alpaca_trade_api as tradeapi\n",
    "\n",
    "API_KEY = os.getenv(\"ALPACA_API_KEY\")\n",
    "API_SECRET = os.getenv(\"ALPACA_SECRET_KEY\")\n",
    "ALPACA_API_BASE_URL = \"https://paper-api.alpaca.markets\""
   ]
  },
  {
   "cell_type": "code",
   "execution_count": 8,
   "metadata": {},
   "outputs": [],
   "source": [
    "# Create a connection to the API \n",
    "api = tradeapi.REST(API_KEY,API_SECRET, ALPACA_API_BASE_URL, api_version='v2')"
   ]
  },
  {
   "cell_type": "code",
   "execution_count": 9,
   "metadata": {},
   "outputs": [],
   "source": [
    "# Set signal variable\n",
    "signal = 1"
   ]
  },
  {
   "cell_type": "code",
   "execution_count": 10,
   "metadata": {},
   "outputs": [],
   "source": [
    "# Create buy signal, num shares and ticker\n",
    "if signal == 1:\n",
    "    orderSide='buy'\n",
    "else:\n",
    "    orderSide='sell'"
   ]
  },
  {
   "cell_type": "code",
   "execution_count": 11,
   "metadata": {},
   "outputs": [],
   "source": [
    "# Set the ticket symbol and the number of shares to buy\n",
    "ticker='TSLA'\n",
    "number_of_shares = 100"
   ]
  },
  {
   "cell_type": "code",
   "execution_count": 13,
   "metadata": {},
   "outputs": [],
   "source": [
    "# Make API call\n",
    "prices = api.get_bars(ticker, '1min').df\n",
    "# Reorganize the DataFrame\n",
    "\n",
    "prices = pd.concat([prices], axis=1, keys=['TSLA'])\n",
    "# Get final closing price\n",
    "limit_amount = prices['TSLA']['close'][-1]"
   ]
  },
  {
   "cell_type": "code",
   "execution_count": 14,
   "metadata": {},
   "outputs": [
    {
     "data": {
      "text/html": [
       "<div>\n",
       "<style scoped>\n",
       "    .dataframe tbody tr th:only-of-type {\n",
       "        vertical-align: middle;\n",
       "    }\n",
       "\n",
       "    .dataframe tbody tr th {\n",
       "        vertical-align: top;\n",
       "    }\n",
       "\n",
       "    .dataframe thead tr th {\n",
       "        text-align: left;\n",
       "    }\n",
       "\n",
       "    .dataframe thead tr:last-of-type th {\n",
       "        text-align: right;\n",
       "    }\n",
       "</style>\n",
       "<table border=\"1\" class=\"dataframe\">\n",
       "  <thead>\n",
       "    <tr>\n",
       "      <th></th>\n",
       "      <th colspan=\"7\" halign=\"left\">TSLA</th>\n",
       "    </tr>\n",
       "    <tr>\n",
       "      <th></th>\n",
       "      <th>open</th>\n",
       "      <th>high</th>\n",
       "      <th>low</th>\n",
       "      <th>close</th>\n",
       "      <th>volume</th>\n",
       "      <th>trade_count</th>\n",
       "      <th>vwap</th>\n",
       "    </tr>\n",
       "    <tr>\n",
       "      <th>timestamp</th>\n",
       "      <th></th>\n",
       "      <th></th>\n",
       "      <th></th>\n",
       "      <th></th>\n",
       "      <th></th>\n",
       "      <th></th>\n",
       "      <th></th>\n",
       "    </tr>\n",
       "  </thead>\n",
       "  <tbody>\n",
       "    <tr>\n",
       "      <th>2023-01-23 09:00:00+00:00</th>\n",
       "      <td>133.87</td>\n",
       "      <td>134.53</td>\n",
       "      <td>133.85</td>\n",
       "      <td>134.30</td>\n",
       "      <td>21664</td>\n",
       "      <td>577</td>\n",
       "      <td>134.237404</td>\n",
       "    </tr>\n",
       "    <tr>\n",
       "      <th>2023-01-23 09:01:00+00:00</th>\n",
       "      <td>134.40</td>\n",
       "      <td>134.56</td>\n",
       "      <td>134.25</td>\n",
       "      <td>134.56</td>\n",
       "      <td>12838</td>\n",
       "      <td>375</td>\n",
       "      <td>134.404692</td>\n",
       "    </tr>\n",
       "    <tr>\n",
       "      <th>2023-01-23 09:02:00+00:00</th>\n",
       "      <td>134.54</td>\n",
       "      <td>134.70</td>\n",
       "      <td>134.46</td>\n",
       "      <td>134.69</td>\n",
       "      <td>12860</td>\n",
       "      <td>307</td>\n",
       "      <td>134.589287</td>\n",
       "    </tr>\n",
       "    <tr>\n",
       "      <th>2023-01-23 09:03:00+00:00</th>\n",
       "      <td>134.68</td>\n",
       "      <td>134.84</td>\n",
       "      <td>134.67</td>\n",
       "      <td>134.76</td>\n",
       "      <td>12423</td>\n",
       "      <td>315</td>\n",
       "      <td>134.744419</td>\n",
       "    </tr>\n",
       "    <tr>\n",
       "      <th>2023-01-23 09:04:00+00:00</th>\n",
       "      <td>134.84</td>\n",
       "      <td>135.02</td>\n",
       "      <td>134.80</td>\n",
       "      <td>135.02</td>\n",
       "      <td>15361</td>\n",
       "      <td>407</td>\n",
       "      <td>134.941451</td>\n",
       "    </tr>\n",
       "    <tr>\n",
       "      <th>...</th>\n",
       "      <td>...</td>\n",
       "      <td>...</td>\n",
       "      <td>...</td>\n",
       "      <td>...</td>\n",
       "      <td>...</td>\n",
       "      <td>...</td>\n",
       "      <td>...</td>\n",
       "    </tr>\n",
       "    <tr>\n",
       "      <th>2023-01-24 00:55:00+00:00</th>\n",
       "      <td>144.80</td>\n",
       "      <td>144.80</td>\n",
       "      <td>144.78</td>\n",
       "      <td>144.80</td>\n",
       "      <td>5502</td>\n",
       "      <td>99</td>\n",
       "      <td>144.797349</td>\n",
       "    </tr>\n",
       "    <tr>\n",
       "      <th>2023-01-24 00:56:00+00:00</th>\n",
       "      <td>144.81</td>\n",
       "      <td>144.85</td>\n",
       "      <td>144.80</td>\n",
       "      <td>144.85</td>\n",
       "      <td>10979</td>\n",
       "      <td>129</td>\n",
       "      <td>144.837522</td>\n",
       "    </tr>\n",
       "    <tr>\n",
       "      <th>2023-01-24 00:57:00+00:00</th>\n",
       "      <td>144.84</td>\n",
       "      <td>144.84</td>\n",
       "      <td>144.79</td>\n",
       "      <td>144.80</td>\n",
       "      <td>15542</td>\n",
       "      <td>134</td>\n",
       "      <td>144.804788</td>\n",
       "    </tr>\n",
       "    <tr>\n",
       "      <th>2023-01-24 00:58:00+00:00</th>\n",
       "      <td>144.80</td>\n",
       "      <td>144.80</td>\n",
       "      <td>144.77</td>\n",
       "      <td>144.77</td>\n",
       "      <td>12129</td>\n",
       "      <td>134</td>\n",
       "      <td>144.789040</td>\n",
       "    </tr>\n",
       "    <tr>\n",
       "      <th>2023-01-24 00:59:00+00:00</th>\n",
       "      <td>144.78</td>\n",
       "      <td>144.80</td>\n",
       "      <td>144.77</td>\n",
       "      <td>144.80</td>\n",
       "      <td>19726</td>\n",
       "      <td>177</td>\n",
       "      <td>144.784967</td>\n",
       "    </tr>\n",
       "  </tbody>\n",
       "</table>\n",
       "<p>952 rows × 7 columns</p>\n",
       "</div>"
      ],
      "text/plain": [
       "                             TSLA                                             \\\n",
       "                             open    high     low   close volume trade_count   \n",
       "timestamp                                                                      \n",
       "2023-01-23 09:00:00+00:00  133.87  134.53  133.85  134.30  21664         577   \n",
       "2023-01-23 09:01:00+00:00  134.40  134.56  134.25  134.56  12838         375   \n",
       "2023-01-23 09:02:00+00:00  134.54  134.70  134.46  134.69  12860         307   \n",
       "2023-01-23 09:03:00+00:00  134.68  134.84  134.67  134.76  12423         315   \n",
       "2023-01-23 09:04:00+00:00  134.84  135.02  134.80  135.02  15361         407   \n",
       "...                           ...     ...     ...     ...    ...         ...   \n",
       "2023-01-24 00:55:00+00:00  144.80  144.80  144.78  144.80   5502          99   \n",
       "2023-01-24 00:56:00+00:00  144.81  144.85  144.80  144.85  10979         129   \n",
       "2023-01-24 00:57:00+00:00  144.84  144.84  144.79  144.80  15542         134   \n",
       "2023-01-24 00:58:00+00:00  144.80  144.80  144.77  144.77  12129         134   \n",
       "2023-01-24 00:59:00+00:00  144.78  144.80  144.77  144.80  19726         177   \n",
       "\n",
       "                                       \n",
       "                                 vwap  \n",
       "timestamp                              \n",
       "2023-01-23 09:00:00+00:00  134.237404  \n",
       "2023-01-23 09:01:00+00:00  134.404692  \n",
       "2023-01-23 09:02:00+00:00  134.589287  \n",
       "2023-01-23 09:03:00+00:00  134.744419  \n",
       "2023-01-23 09:04:00+00:00  134.941451  \n",
       "...                               ...  \n",
       "2023-01-24 00:55:00+00:00  144.797349  \n",
       "2023-01-24 00:56:00+00:00  144.837522  \n",
       "2023-01-24 00:57:00+00:00  144.804788  \n",
       "2023-01-24 00:58:00+00:00  144.789040  \n",
       "2023-01-24 00:59:00+00:00  144.784967  \n",
       "\n",
       "[952 rows x 7 columns]"
      ]
     },
     "execution_count": 14,
     "metadata": {},
     "output_type": "execute_result"
    }
   ],
   "source": [
    "prices"
   ]
  },
  {
   "cell_type": "code",
   "execution_count": 17,
   "metadata": {},
   "outputs": [
    {
     "data": {
      "text/plain": [
       "Order({   'asset_class': 'us_equity',\n",
       "    'asset_id': '8ccae427-5dd0-45b3-b5fe-7ba5e422c766',\n",
       "    'canceled_at': None,\n",
       "    'client_order_id': '9e4b5273-247c-46d6-a54d-73845ca63d2f',\n",
       "    'created_at': '2023-01-24T03:03:49.977870996Z',\n",
       "    'expired_at': None,\n",
       "    'extended_hours': False,\n",
       "    'failed_at': None,\n",
       "    'filled_at': None,\n",
       "    'filled_avg_price': None,\n",
       "    'filled_qty': '0',\n",
       "    'hwm': None,\n",
       "    'id': '9b6b2633-5fda-4d68-b7d4-070844ec98d6',\n",
       "    'legs': None,\n",
       "    'limit_price': '144.8',\n",
       "    'notional': None,\n",
       "    'order_class': '',\n",
       "    'order_type': 'limit',\n",
       "    'qty': '100',\n",
       "    'replaced_at': None,\n",
       "    'replaced_by': None,\n",
       "    'replaces': None,\n",
       "    'side': 'buy',\n",
       "    'source': None,\n",
       "    'status': 'accepted',\n",
       "    'stop_price': None,\n",
       "    'submitted_at': '2023-01-24T03:03:49.977355346Z',\n",
       "    'subtag': None,\n",
       "    'symbol': 'TSLA',\n",
       "    'time_in_force': 'day',\n",
       "    'trail_percent': None,\n",
       "    'trail_price': None,\n",
       "    'type': 'limit',\n",
       "    'updated_at': '2023-01-24T03:03:49.977870996Z'})"
      ]
     },
     "execution_count": 17,
     "metadata": {},
     "output_type": "execute_result"
    }
   ],
   "source": [
    "# Submit order\n",
    "api.submit_order(\n",
    "    symbol=ticker,\n",
    "    qty=number_of_shares,\n",
    "    side=orderSide,\n",
    "    type='limit',\n",
    "    limit_price=limit_amount\n",
    ")"
   ]
  },
  {
   "cell_type": "code",
   "execution_count": null,
   "metadata": {},
   "outputs": [],
   "source": []
  }
 ],
 "metadata": {
  "kernelspec": {
   "display_name": "Python 3",
   "language": "python",
   "name": "python3"
  },
  "language_info": {
   "codemirror_mode": {
    "name": "ipython",
    "version": 3
   },
   "file_extension": ".py",
   "mimetype": "text/x-python",
   "name": "python",
   "nbconvert_exporter": "python",
   "pygments_lexer": "ipython3",
   "version": "3.9.12"
  },
  "vscode": {
   "interpreter": {
    "hash": "996ffda76004d767ccbaaba7e2437ee3b45ec97388b0612ddf8c69ff1d3b8680"
   }
  }
 },
 "nbformat": 4,
 "nbformat_minor": 4
}
